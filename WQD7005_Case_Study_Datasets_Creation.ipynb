{
  "nbformat": 4,
  "nbformat_minor": 0,
  "metadata": {
    "colab": {
      "provenance": [],
      "authorship_tag": "ABX9TyM8JAzy0KonTrqftA7Av8QP",
      "include_colab_link": true
    },
    "kernelspec": {
      "name": "python3",
      "display_name": "Python 3"
    },
    "language_info": {
      "name": "python"
    }
  },
  "cells": [
    {
      "cell_type": "markdown",
      "metadata": {
        "id": "view-in-github",
        "colab_type": "text"
      },
      "source": [
        "<a href=\"https://colab.research.google.com/github/yuanwei23/wqd7005_casestudy/blob/main/WQD7005_Case_Study_Datasets_Creation.ipynb\" target=\"_parent\"><img src=\"https://colab.research.google.com/assets/colab-badge.svg\" alt=\"Open In Colab\"/></a>"
      ]
    },
    {
      "cell_type": "markdown",
      "source": [
        "Notebook Description: Dataset Creation for WQD7005 Case Study Final Exam\n",
        "\n",
        "Input (Original Dataset from Kaggle): https://www.kaggle.com/datasets/vivek468/superstore-dataset-final?resource=download\n",
        "\n",
        "Output: customer_info.csv, customer_spending.csv\n",
        "\n",
        "Yuan Wei Kam S2158054"
      ],
      "metadata": {
        "id": "QOAI1XoU6CMi"
      }
    },
    {
      "cell_type": "code",
      "execution_count": null,
      "metadata": {
        "id": "BXNRzzbh_QZi"
      },
      "outputs": [],
      "source": [
        "import pandas as pd\n",
        "import numpy as np"
      ]
    },
    {
      "cell_type": "code",
      "source": [
        "# Specify the encoding parameter\n",
        "df = pd.read_csv(\"/content/Sample - Superstore.csv\", encoding='latin1')\n",
        "\n",
        "df.info()"
      ],
      "metadata": {
        "colab": {
          "base_uri": "https://localhost:8080/"
        },
        "id": "AGgXGxFB_mBR",
        "outputId": "5d29ab22-9377-4aeb-f4fe-7914f4428a70"
      },
      "execution_count": null,
      "outputs": [
        {
          "output_type": "stream",
          "name": "stdout",
          "text": [
            "<class 'pandas.core.frame.DataFrame'>\n",
            "RangeIndex: 9994 entries, 0 to 9993\n",
            "Data columns (total 21 columns):\n",
            " #   Column         Non-Null Count  Dtype  \n",
            "---  ------         --------------  -----  \n",
            " 0   Row ID         9994 non-null   int64  \n",
            " 1   Order ID       9994 non-null   object \n",
            " 2   Order Date     9994 non-null   object \n",
            " 3   Ship Date      9994 non-null   object \n",
            " 4   Ship Mode      9994 non-null   object \n",
            " 5   Customer ID    9994 non-null   object \n",
            " 6   Customer Name  9994 non-null   object \n",
            " 7   Segment        9994 non-null   object \n",
            " 8   Country        9994 non-null   object \n",
            " 9   City           9994 non-null   object \n",
            " 10  State          9994 non-null   object \n",
            " 11  Postal Code    9994 non-null   int64  \n",
            " 12  Region         9994 non-null   object \n",
            " 13  Product ID     9994 non-null   object \n",
            " 14  Category       9994 non-null   object \n",
            " 15  Sub-Category   9994 non-null   object \n",
            " 16  Product Name   9994 non-null   object \n",
            " 17  Sales          9994 non-null   float64\n",
            " 18  Quantity       9994 non-null   int64  \n",
            " 19  Discount       9994 non-null   float64\n",
            " 20  Profit         9994 non-null   float64\n",
            "dtypes: float64(3), int64(3), object(15)\n",
            "memory usage: 1.6+ MB\n"
          ]
        }
      ]
    },
    {
      "cell_type": "code",
      "source": [
        "import pandas as pd\n",
        "import numpy as np\n",
        "from datetime import datetime, timedelta\n",
        "\n",
        "# Load your existing DataFrame\n",
        "# df = pd.read_csv(\"/content/Sample - Superstore.csv\", encoding='latin1')\n",
        "\n",
        "# Add new columns\n",
        "age_mean, age_std = 39, 12  # Adjust mean and standard deviation as needed\n",
        "df['Age'] = np.random.normal(loc=age_mean, scale=age_std, size=len(df)).astype(float)\n",
        "df['Age'] = np.clip(df['Age'], 18, 80).astype(int)  # Clip values and convert to integer\n",
        "\n",
        "df['Gender'] = np.random.choice(['Male', 'Female'], size=len(df), p=[0.3, 0.7])  # Adjust probabilities\n",
        "df['TotalPurchases'] = np.random.randint(1, 105, size=len(df))\n",
        "df['TotalSpent'] = np.random.uniform(46.90, 13285.70, size=len(df))\n",
        "\n",
        "# Define membership levels based on TotalSpent\n",
        "df['MembershipLevel'] = pd.cut(df['TotalSpent'], bins=[-np.inf, 1000, 5000, 10000, np.inf],\n",
        "                               labels=['Bronze', 'Silver', 'Gold', 'Platinum'])\n",
        "\n",
        "# Define the function to generate LastPurchaseDate based on MembershipLevel\n",
        "def generate_last_purchase_date(row):\n",
        "    if row['MembershipLevel'] in ['Gold', 'Platinum']:\n",
        "        # Generate a date after October 2023 with a higher probability for Gold and Platinum members\n",
        "        if np.random.rand() < 0.8:  # Adjust the probability as needed (e.g., 80% chance)\n",
        "            return np.random.choice(pd.date_range(start='2023-11-01', end='2023-12-31'), size=1)[0]\n",
        "        else:\n",
        "            return np.random.choice(pd.date_range(start='2023-01-01', end='2023-10-31'), size=1)[0]\n",
        "    else:\n",
        "        # Generate a date before or after October 2023 for other membership levels\n",
        "        return np.random.choice(pd.date_range(start='2023-01-01', end='2023-12-31'), size=1)[0]\n",
        "\n",
        "# Apply the function to each row\n",
        "df['LastPurchaseDate'] = df.apply(generate_last_purchase_date, axis=1)\n",
        "\n",
        "# Assuming df is your existing DataFrame, replace it with the correct variable name if needed\n",
        "df['LastPurchaseDate'] = pd.to_datetime(df['LastPurchaseDate'], format='%d/%m/%Y')\n",
        "\n",
        "# Set Churn based on LastPurchaseDate\n",
        "df['Churn'] = np.where(df['LastPurchaseDate'] < datetime(2023, 10, 1), 1, 0)\n",
        "\n",
        "\n",
        "# Add FavoriteCategory\n",
        "categories = ['Electronics', 'Pet Supplies', 'Sports and Outdoors', 'Beauty',\n",
        "              'Health & Personal Care', 'Home and Kitchen', 'Clothing', 'Furniture',\n",
        "              'Grocery', 'Office Products']\n",
        "df['FavoriteCategory'] = np.random.choice(categories, size=len(df))\n",
        "\n",
        "# Display the modified DataFrame\n",
        "print(df.head())\n"
      ],
      "metadata": {
        "colab": {
          "base_uri": "https://localhost:8080/"
        },
        "id": "ae0aXo_bDIWT",
        "outputId": "191ac462-0beb-4421-ec69-dc08fd564185"
      },
      "execution_count": null,
      "outputs": [
        {
          "output_type": "stream",
          "name": "stdout",
          "text": [
            "   Row ID        Order ID  Order Date   Ship Date       Ship Mode Customer ID  \\\n",
            "0       1  CA-2016-152156   11/8/2016  11/11/2016    Second Class    CG-12520   \n",
            "1       2  CA-2016-152156   11/8/2016  11/11/2016    Second Class    CG-12520   \n",
            "2       3  CA-2016-138688   6/12/2016   6/16/2016    Second Class    DV-13045   \n",
            "3       4  US-2015-108966  10/11/2015  10/18/2015  Standard Class    SO-20335   \n",
            "4       5  US-2015-108966  10/11/2015  10/18/2015  Standard Class    SO-20335   \n",
            "\n",
            "     Customer Name    Segment        Country             City  ... Discount  \\\n",
            "0      Claire Gute   Consumer  United States        Henderson  ...     0.00   \n",
            "1      Claire Gute   Consumer  United States        Henderson  ...     0.00   \n",
            "2  Darrin Van Huff  Corporate  United States      Los Angeles  ...     0.00   \n",
            "3   Sean O'Donnell   Consumer  United States  Fort Lauderdale  ...     0.45   \n",
            "4   Sean O'Donnell   Consumer  United States  Fort Lauderdale  ...     0.20   \n",
            "\n",
            "     Profit Age  Gender TotalPurchases    TotalSpent MembershipLevel  \\\n",
            "0   41.9136  30    Male             30   5206.283132            Gold   \n",
            "1  219.5820  29  Female             81  10262.683632        Platinum   \n",
            "2    6.8714  41  Female              6  11389.139833        Platinum   \n",
            "3 -383.0310  22  Female            102   4776.222359          Silver   \n",
            "4    2.5164  51  Female             67   6352.989485            Gold   \n",
            "\n",
            "   LastPurchaseDate  Churn        FavoriteCategory  \n",
            "0        2023-11-29      0                Clothing  \n",
            "1        2023-12-26      0               Furniture  \n",
            "2        2023-12-26      0               Furniture  \n",
            "3        2023-10-12      0               Furniture  \n",
            "4        2023-11-11      0  Health & Personal Care  \n",
            "\n",
            "[5 rows x 29 columns]\n"
          ]
        }
      ]
    },
    {
      "cell_type": "code",
      "source": [
        "df.info()"
      ],
      "metadata": {
        "colab": {
          "base_uri": "https://localhost:8080/"
        },
        "id": "NbgJgOEcDWlp",
        "outputId": "df906d01-c7d5-46d0-bb99-904b9f0afc24"
      },
      "execution_count": null,
      "outputs": [
        {
          "output_type": "stream",
          "name": "stdout",
          "text": [
            "<class 'pandas.core.frame.DataFrame'>\n",
            "RangeIndex: 9994 entries, 0 to 9993\n",
            "Data columns (total 29 columns):\n",
            " #   Column            Non-Null Count  Dtype         \n",
            "---  ------            --------------  -----         \n",
            " 0   Row ID            9994 non-null   int64         \n",
            " 1   Order ID          9994 non-null   object        \n",
            " 2   Order Date        9994 non-null   object        \n",
            " 3   Ship Date         9994 non-null   object        \n",
            " 4   Ship Mode         9994 non-null   object        \n",
            " 5   Customer ID       9994 non-null   object        \n",
            " 6   Customer Name     9994 non-null   object        \n",
            " 7   Segment           9994 non-null   object        \n",
            " 8   Country           9994 non-null   object        \n",
            " 9   City              9994 non-null   object        \n",
            " 10  State             9994 non-null   object        \n",
            " 11  Postal Code       9994 non-null   int64         \n",
            " 12  Region            9994 non-null   object        \n",
            " 13  Product ID        9994 non-null   object        \n",
            " 14  Category          9994 non-null   object        \n",
            " 15  Sub-Category      9994 non-null   object        \n",
            " 16  Product Name      9994 non-null   object        \n",
            " 17  Sales             9994 non-null   float64       \n",
            " 18  Quantity          9994 non-null   int64         \n",
            " 19  Discount          9994 non-null   float64       \n",
            " 20  Profit            9994 non-null   float64       \n",
            " 21  Age               9994 non-null   int64         \n",
            " 22  Gender            9994 non-null   object        \n",
            " 23  TotalPurchases    9994 non-null   int64         \n",
            " 24  TotalSpent        9994 non-null   float64       \n",
            " 25  MembershipLevel   9994 non-null   category      \n",
            " 26  LastPurchaseDate  9994 non-null   datetime64[ns]\n",
            " 27  Churn             9994 non-null   int64         \n",
            " 28  FavoriteCategory  9994 non-null   object        \n",
            "dtypes: category(1), datetime64[ns](1), float64(4), int64(6), object(17)\n",
            "memory usage: 2.1+ MB\n"
          ]
        }
      ]
    },
    {
      "cell_type": "code",
      "source": [
        "# Remove specified columns\n",
        "columns_to_remove = ['Row ID','Customer ID','Customer Name','Order ID', 'Order Date', 'Ship Date', 'Ship Mode', 'Segment',\n",
        "                      'Product ID', 'Category', 'Sub-Category', 'Product Name',\n",
        "                      'Sales', 'Quantity', 'Discount', 'Profit']\n",
        "df = df.drop(columns=columns_to_remove, errors='ignore')\n",
        "\n",
        "# Display the modified DataFrame\n",
        "print(df.head())"
      ],
      "metadata": {
        "colab": {
          "base_uri": "https://localhost:8080/"
        },
        "id": "_VsxkYBKGtT5",
        "outputId": "6045fc61-69ee-4954-e5f4-9b73fd178b80"
      },
      "execution_count": null,
      "outputs": [
        {
          "output_type": "stream",
          "name": "stdout",
          "text": [
            "         Country             City       State  Postal Code Region  Age  \\\n",
            "0  United States        Henderson    Kentucky        42420  South   30   \n",
            "1  United States        Henderson    Kentucky        42420  South   29   \n",
            "2  United States      Los Angeles  California        90036   West   41   \n",
            "3  United States  Fort Lauderdale     Florida        33311  South   22   \n",
            "4  United States  Fort Lauderdale     Florida        33311  South   51   \n",
            "\n",
            "   Gender  TotalPurchases    TotalSpent MembershipLevel LastPurchaseDate  \\\n",
            "0    Male              30   5206.283132            Gold       2023-11-29   \n",
            "1  Female              81  10262.683632        Platinum       2023-12-26   \n",
            "2  Female               6  11389.139833        Platinum       2023-12-26   \n",
            "3  Female             102   4776.222359          Silver       2023-10-12   \n",
            "4  Female              67   6352.989485            Gold       2023-11-11   \n",
            "\n",
            "   Churn        FavoriteCategory  \n",
            "0      0                Clothing  \n",
            "1      0               Furniture  \n",
            "2      0               Furniture  \n",
            "3      0               Furniture  \n",
            "4      0  Health & Personal Care  \n"
          ]
        }
      ]
    },
    {
      "cell_type": "code",
      "source": [
        "df.info()"
      ],
      "metadata": {
        "colab": {
          "base_uri": "https://localhost:8080/"
        },
        "id": "J0MXBQEAG0ia",
        "outputId": "dc578560-ddfb-49eb-e53e-d587dcdfdac0"
      },
      "execution_count": null,
      "outputs": [
        {
          "output_type": "stream",
          "name": "stdout",
          "text": [
            "<class 'pandas.core.frame.DataFrame'>\n",
            "RangeIndex: 9994 entries, 0 to 9993\n",
            "Data columns (total 13 columns):\n",
            " #   Column            Non-Null Count  Dtype         \n",
            "---  ------            --------------  -----         \n",
            " 0   Country           9994 non-null   object        \n",
            " 1   City              9994 non-null   object        \n",
            " 2   State             9994 non-null   object        \n",
            " 3   Postal Code       9994 non-null   int64         \n",
            " 4   Region            9994 non-null   object        \n",
            " 5   Age               9994 non-null   int64         \n",
            " 6   Gender            9994 non-null   object        \n",
            " 7   TotalPurchases    9994 non-null   int64         \n",
            " 8   TotalSpent        9994 non-null   float64       \n",
            " 9   MembershipLevel   9994 non-null   category      \n",
            " 10  LastPurchaseDate  9994 non-null   datetime64[ns]\n",
            " 11  Churn             9994 non-null   int64         \n",
            " 12  FavoriteCategory  9994 non-null   object        \n",
            "dtypes: category(1), datetime64[ns](1), float64(1), int64(4), object(6)\n",
            "memory usage: 947.0+ KB\n"
          ]
        }
      ]
    },
    {
      "cell_type": "code",
      "source": [
        "# Generate 'Income' column with values sampled from a normal distribution\n",
        "income_mean, income_std = 72000, 22000  # Adjust mean and std as needed\n",
        "df['Income'] = np.random.normal(loc=income_mean, scale=income_std, size=len(df))\n",
        "df['Income'] = df['Income'].clip(22530, 167600).astype(int)  # Clip values and convert to integer"
      ],
      "metadata": {
        "id": "kh76Unfyjdc-"
      },
      "execution_count": null,
      "outputs": []
    },
    {
      "cell_type": "code",
      "source": [
        "# Introduce random missing values with random percentage (not exceeding 20%)\n",
        "columns_with_missing = ['City', 'State', 'Region', 'Age', 'Gender', 'Churn', 'LastPurchaseDate','Income']\n",
        "\n",
        "for column in columns_with_missing:\n",
        "    # Generate random missing percentage (not exceeding 20%)\n",
        "    missing_percentage = np.random.uniform(0, 20)\n",
        "    # Generate random indices for missing values\n",
        "    missing_indices = np.random.choice(df.index, size=int((missing_percentage / 100) * len(df)), replace=False)\n",
        "    # Set values to NaN at selected indices\n",
        "    df.loc[missing_indices, column] = np.nan\n",
        "\n",
        "# Display the modified DataFrame\n",
        "print(df.head())"
      ],
      "metadata": {
        "colab": {
          "base_uri": "https://localhost:8080/"
        },
        "id": "lqgSoAsfK-dr",
        "outputId": "5908b84a-2902-4b48-acef-da02021c29ce"
      },
      "execution_count": null,
      "outputs": [
        {
          "output_type": "stream",
          "name": "stdout",
          "text": [
            "         Country             City       State  Postal Code Region   Age  \\\n",
            "0  United States        Henderson    Kentucky        42420  South  30.0   \n",
            "1  United States        Henderson    Kentucky        42420  South  29.0   \n",
            "2  United States      Los Angeles  California        90036   West  41.0   \n",
            "3  United States              NaN     Florida        33311  South  22.0   \n",
            "4  United States  Fort Lauderdale     Florida        33311    NaN  51.0   \n",
            "\n",
            "   Gender  TotalPurchases    TotalSpent MembershipLevel LastPurchaseDate  \\\n",
            "0    Male              30   5206.283132            Gold       2023-11-29   \n",
            "1  Female              81  10262.683632        Platinum       2023-12-26   \n",
            "2  Female               6  11389.139833        Platinum       2023-12-26   \n",
            "3  Female             102   4776.222359          Silver       2023-10-12   \n",
            "4  Female              67   6352.989485            Gold       2023-11-11   \n",
            "\n",
            "   Churn        FavoriteCategory   Income  \n",
            "0    0.0                Clothing  74291.0  \n",
            "1    0.0               Furniture  65237.0  \n",
            "2    NaN               Furniture  85197.0  \n",
            "3    0.0               Furniture  68506.0  \n",
            "4    0.0  Health & Personal Care  97750.0  \n"
          ]
        }
      ]
    },
    {
      "cell_type": "code",
      "source": [
        "# Check for missing values in all columns\n",
        "missing_values = df.isnull().sum()\n",
        "\n",
        "# Display the count of missing values in each column\n",
        "print(\"Missing Values in Each Column:\")\n",
        "print(missing_values)"
      ],
      "metadata": {
        "colab": {
          "base_uri": "https://localhost:8080/"
        },
        "id": "tFLsOqQvLNTO",
        "outputId": "f3d8fc36-b908-4285-ce98-72febd214b46"
      },
      "execution_count": null,
      "outputs": [
        {
          "output_type": "stream",
          "name": "stdout",
          "text": [
            "Missing Values in Each Column:\n",
            "Country                0\n",
            "City                 943\n",
            "State               1390\n",
            "Postal Code            0\n",
            "Region               953\n",
            "Age                 1419\n",
            "Gender              1762\n",
            "TotalPurchases         0\n",
            "TotalSpent             0\n",
            "MembershipLevel        0\n",
            "LastPurchaseDate     509\n",
            "Churn                288\n",
            "FavoriteCategory       0\n",
            "Income               905\n",
            "dtype: int64\n"
          ]
        }
      ]
    },
    {
      "cell_type": "code",
      "source": [
        "# Ensure unique Customer IDs\n",
        "unique_counter = np.arange(10000, 10000 + len(df))\n",
        "np.random.shuffle(unique_counter)\n",
        "df['Customer ID'] = unique_counter\n"
      ],
      "metadata": {
        "id": "fOyyOI8iLbwF"
      },
      "execution_count": null,
      "outputs": []
    },
    {
      "cell_type": "code",
      "source": [
        "df.info()"
      ],
      "metadata": {
        "colab": {
          "base_uri": "https://localhost:8080/"
        },
        "id": "4eCaCa2fOO6q",
        "outputId": "8364afff-580a-4d2b-e316-57092bb3b60b"
      },
      "execution_count": null,
      "outputs": [
        {
          "output_type": "stream",
          "name": "stdout",
          "text": [
            "<class 'pandas.core.frame.DataFrame'>\n",
            "RangeIndex: 9994 entries, 0 to 9993\n",
            "Data columns (total 15 columns):\n",
            " #   Column            Non-Null Count  Dtype         \n",
            "---  ------            --------------  -----         \n",
            " 0   Country           9994 non-null   object        \n",
            " 1   City              9051 non-null   object        \n",
            " 2   State             8604 non-null   object        \n",
            " 3   Postal Code       9994 non-null   int64         \n",
            " 4   Region            9041 non-null   object        \n",
            " 5   Age               8575 non-null   float64       \n",
            " 6   Gender            8232 non-null   object        \n",
            " 7   TotalPurchases    9994 non-null   int64         \n",
            " 8   TotalSpent        9994 non-null   float64       \n",
            " 9   MembershipLevel   9994 non-null   category      \n",
            " 10  LastPurchaseDate  9485 non-null   datetime64[ns]\n",
            " 11  Churn             9706 non-null   float64       \n",
            " 12  FavoriteCategory  9994 non-null   object        \n",
            " 13  Income            9089 non-null   float64       \n",
            " 14  Customer ID       9994 non-null   int64         \n",
            "dtypes: category(1), datetime64[ns](1), float64(4), int64(3), object(6)\n",
            "memory usage: 1.1+ MB\n"
          ]
        }
      ]
    },
    {
      "cell_type": "code",
      "source": [
        "# Split the dataset into two separate datasets\n",
        "df_part1 = df.iloc[:, np.r_[:7, 13, 14]].copy()\n",
        "df_part2 = df.iloc[:, np.r_[7:13,14]].copy()\n",
        "\n",
        "# Display the first part of the split dataset\n",
        "print(\"\\nDataFrame Part 1:\")\n",
        "print(df_part1.head())"
      ],
      "metadata": {
        "colab": {
          "base_uri": "https://localhost:8080/"
        },
        "id": "k97a_OziMEvt",
        "outputId": "9e434c13-972e-4fc3-e173-3abe9bd44663"
      },
      "execution_count": null,
      "outputs": [
        {
          "output_type": "stream",
          "name": "stdout",
          "text": [
            "\n",
            "DataFrame Part 1:\n",
            "         Country             City       State  Postal Code Region   Age  \\\n",
            "0  United States        Henderson    Kentucky        42420  South  30.0   \n",
            "1  United States        Henderson    Kentucky        42420  South  29.0   \n",
            "2  United States      Los Angeles  California        90036   West  41.0   \n",
            "3  United States              NaN     Florida        33311  South  22.0   \n",
            "4  United States  Fort Lauderdale     Florida        33311    NaN  51.0   \n",
            "\n",
            "   Gender   Income  Customer ID  \n",
            "0    Male  74291.0        14075  \n",
            "1  Female  65237.0        15015  \n",
            "2  Female  85197.0        19822  \n",
            "3  Female  68506.0        11213  \n",
            "4  Female  97750.0        19564  \n"
          ]
        }
      ]
    },
    {
      "cell_type": "code",
      "source": [
        "df_part1.info()"
      ],
      "metadata": {
        "colab": {
          "base_uri": "https://localhost:8080/"
        },
        "id": "dV6MuZtjQgPA",
        "outputId": "10d99a21-f827-4943-fbec-61a74655381c"
      },
      "execution_count": null,
      "outputs": [
        {
          "output_type": "stream",
          "name": "stdout",
          "text": [
            "<class 'pandas.core.frame.DataFrame'>\n",
            "RangeIndex: 9994 entries, 0 to 9993\n",
            "Data columns (total 9 columns):\n",
            " #   Column       Non-Null Count  Dtype  \n",
            "---  ------       --------------  -----  \n",
            " 0   Country      9994 non-null   object \n",
            " 1   City         9051 non-null   object \n",
            " 2   State        8604 non-null   object \n",
            " 3   Postal Code  9994 non-null   int64  \n",
            " 4   Region       9041 non-null   object \n",
            " 5   Age          8575 non-null   float64\n",
            " 6   Gender       8232 non-null   object \n",
            " 7   Income       9089 non-null   float64\n",
            " 8   Customer ID  9994 non-null   int64  \n",
            "dtypes: float64(2), int64(2), object(5)\n",
            "memory usage: 702.8+ KB\n"
          ]
        }
      ]
    },
    {
      "cell_type": "code",
      "source": [
        "# Display the second part of the split dataset\n",
        "print(\"\\nDataFrame Part 2:\")\n",
        "print(df_part2.head())"
      ],
      "metadata": {
        "colab": {
          "base_uri": "https://localhost:8080/"
        },
        "id": "V2RjaW8mMIxk",
        "outputId": "bbb31c56-0429-4de6-b1ee-0ae40d17dfd9"
      },
      "execution_count": null,
      "outputs": [
        {
          "output_type": "stream",
          "name": "stdout",
          "text": [
            "\n",
            "DataFrame Part 2:\n",
            "   TotalPurchases    TotalSpent MembershipLevel LastPurchaseDate  Churn  \\\n",
            "0              30   5206.283132            Gold       2023-11-29    0.0   \n",
            "1              81  10262.683632        Platinum       2023-12-26    0.0   \n",
            "2               6  11389.139833        Platinum       2023-12-26    NaN   \n",
            "3             102   4776.222359          Silver       2023-10-12    0.0   \n",
            "4              67   6352.989485            Gold       2023-11-11    0.0   \n",
            "\n",
            "         FavoriteCategory  Customer ID  \n",
            "0                Clothing        14075  \n",
            "1               Furniture        15015  \n",
            "2               Furniture        19822  \n",
            "3               Furniture        11213  \n",
            "4  Health & Personal Care        19564  \n"
          ]
        }
      ]
    },
    {
      "cell_type": "code",
      "source": [
        "df_part2.info()"
      ],
      "metadata": {
        "colab": {
          "base_uri": "https://localhost:8080/"
        },
        "id": "BkDFEvLyQjWn",
        "outputId": "4ddb895f-a197-40de-e9cc-ecc586df41db"
      },
      "execution_count": null,
      "outputs": [
        {
          "output_type": "stream",
          "name": "stdout",
          "text": [
            "<class 'pandas.core.frame.DataFrame'>\n",
            "RangeIndex: 9994 entries, 0 to 9993\n",
            "Data columns (total 7 columns):\n",
            " #   Column            Non-Null Count  Dtype         \n",
            "---  ------            --------------  -----         \n",
            " 0   TotalPurchases    9994 non-null   int64         \n",
            " 1   TotalSpent        9994 non-null   float64       \n",
            " 2   MembershipLevel   9994 non-null   category      \n",
            " 3   LastPurchaseDate  9485 non-null   datetime64[ns]\n",
            " 4   Churn             9706 non-null   float64       \n",
            " 5   FavoriteCategory  9994 non-null   object        \n",
            " 6   Customer ID       9994 non-null   int64         \n",
            "dtypes: category(1), datetime64[ns](1), float64(2), int64(2), object(1)\n",
            "memory usage: 478.6+ KB\n"
          ]
        }
      ]
    },
    {
      "cell_type": "code",
      "source": [
        "# Export the two DataFrame parts to CSV files\n",
        "df_part1.to_csv('customer_info.csv', index=False)\n",
        "df_part2.to_csv('customer_spending.csv', index=False)"
      ],
      "metadata": {
        "id": "LlJbgTV8PWRL"
      },
      "execution_count": null,
      "outputs": []
    }
  ]
}